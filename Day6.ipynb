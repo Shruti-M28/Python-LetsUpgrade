{
 "cells": [
  {
   "cell_type": "markdown",
   "metadata": {},
   "source": [
    "# Q1. Bank Account"
   ]
  },
  {
   "cell_type": "code",
   "execution_count": 12,
   "metadata": {},
   "outputs": [
    {
     "name": "stdout",
     "output_type": "stream",
     "text": [
      "Enter OwnerName: sss\n",
      "Enter Balance: 800\n",
      "Enter amount to be deposited: 300\n",
      "Total balance is 1100\n",
      "Enter amount to be withdrawed: 700\n",
      "Money withdrawed: 700\n",
      "Remaining balace is 400\n"
     ]
    }
   ],
   "source": [
    "class BankAccount:\n",
    "    def __init__(self):\n",
    "        self.name=input(\"Enter OwnerName: \")\n",
    "        self.balance=int(input(\"Enter Balance: \"))\n",
    "    \n",
    "    \n",
    "    def deposit(self):\n",
    "        self.d=int(input(\"Enter amount to be deposited: \"))\n",
    "        self.balance+=self.d\n",
    "        print(\"Total balance is\",self.balance)\n",
    "\n",
    "    def withdraw(self):\n",
    "        self.w=int(input(\"Enter amount to be withdrawed: \"))\n",
    "        if self.w<=self.balance:\n",
    "            self.balance-=self.w\n",
    "            print(\"Money withdrawed: {}\\nRemaining balace is {}\".format(self.w,self.balance))\n",
    "        else:\n",
    "            print(\"Insuficient Balance\")\n",
    "                 \n",
    "\n",
    "o=BankAccount()\n",
    "o.deposit()\n",
    "o.withdraw()    "
   ]
  },
  {
   "cell_type": "markdown",
   "metadata": {},
   "source": [
    "#  Q2. Area and Volume"
   ]
  },
  {
   "cell_type": "code",
   "execution_count": 1,
   "metadata": {},
   "outputs": [
    {
     "name": "stdout",
     "output_type": "stream",
     "text": [
      "Enter Radius: 5\n",
      "Enter Height: 12\n",
      "\n",
      "Area is 282.74\n",
      "Volume is 314.16\n"
     ]
    }
   ],
   "source": [
    "import math\n",
    "class cone:  \n",
    "    \n",
    "    def area(self):\n",
    "        l = math.sqrt(radius * radius + height * height)\n",
    "        area = math.pi * radius * (radius + l)\n",
    "        print()\n",
    "        area=round(area,2)\n",
    "        print(\"Area is\",area)\n",
    "\n",
    "    def volume(self):\n",
    "        vol = (1.0/3) * math.pi * radius * radius * height\n",
    "        vol=round(vol,2)\n",
    "        print(\"Volume is\",vol)\n",
    "\n",
    "o=cone()\n",
    "radius=int(input(\"Enter Radius: \"))\n",
    "height=int(input(\"Enter Height: \"))\n",
    "o.area()\n",
    "o.volume()"
   ]
  }
 ],
 "metadata": {
  "kernelspec": {
   "display_name": "Python 3",
   "language": "python",
   "name": "python3"
  },
  "language_info": {
   "codemirror_mode": {
    "name": "ipython",
    "version": 3
   },
   "file_extension": ".py",
   "mimetype": "text/x-python",
   "name": "python",
   "nbconvert_exporter": "python",
   "pygments_lexer": "ipython3",
   "version": "3.6.2"
  }
 },
 "nbformat": 4,
 "nbformat_minor": 4
}
